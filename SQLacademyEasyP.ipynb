{
  "nbformat": 4,
  "nbformat_minor": 0,
  "metadata": {
    "colab": {
      "provenance": []
    },
    "kernelspec": {
      "name": "python3",
      "display_name": "Python 3"
    },
    "language_info": {
      "name": "python"
    }
  },
  "cells": [
    {
      "cell_type": "markdown",
      "source": [
        "1. **Display the names of all people in the airline database**"
      ],
      "metadata": {
        "id": "gXwHQpVOngPa"
      }
    },
    {
      "cell_type": "code",
      "execution_count": null,
      "metadata": {
        "id": "hiQUxOqenaFF"
      },
      "outputs": [],
      "source": [
        "SELECT name FROM Passenger"
      ]
    },
    {
      "cell_type": "markdown",
      "source": [
        "2. **Display the names of all airlines**"
      ],
      "metadata": {
        "id": "6WVkY0l7nywY"
      }
    },
    {
      "cell_type": "code",
      "source": [
        "SELECT name FROM Company"
      ],
      "metadata": {
        "id": "5JcnTWJ6n5VJ"
      },
      "execution_count": null,
      "outputs": []
    },
    {
      "cell_type": "markdown",
      "source": [
        "3. **Display all flights originating from Moscow**"
      ],
      "metadata": {
        "id": "keUiEH3mn8o4"
      }
    },
    {
      "cell_type": "code",
      "source": [
        "SELECT *FROM Trip WHERE town_from = 'Moscow'"
      ],
      "metadata": {
        "id": "WGiPOuigoDXB"
      },
      "execution_count": null,
      "outputs": []
    },
    {
      "cell_type": "markdown",
      "source": [
        "4. **Print people's names that end in \"man\"**"
      ],
      "metadata": {
        "id": "yTQ9QytFoN1x"
      }
    },
    {
      "cell_type": "code",
      "source": [
        "SELECT name FROM Passenger WHERE name LIKE \"%man\";"
      ],
      "metadata": {
        "id": "9QNb3MKqoUth"
      },
      "execution_count": null,
      "outputs": []
    },
    {
      "cell_type": "markdown",
      "source": [
        "5. **Display the number of flights performed on TU-134**"
      ],
      "metadata": {
        "id": "0iK6WMHVoZMI"
      }
    },
    {
      "cell_type": "code",
      "source": [
        "SELECT COUNT(*) AS count FROM Trip WHERE plane = \"TU-134\""
      ],
      "metadata": {
        "id": "XLlGlMfSolE8"
      },
      "execution_count": null,
      "outputs": []
    },
    {
      "cell_type": "markdown",
      "source": [
        "6. **Which companies flew Boeing**"
      ],
      "metadata": {
        "id": "OEX2ceVhoqSQ"
      }
    },
    {
      "cell_type": "code",
      "source": [
        "SELECT DISTINCT name FROM Company INNER JOIN Trip ON Company.id = Trip.company WHERE plane = \"Boeing\";"
      ],
      "metadata": {
        "id": "bJTPG2jnowVg"
      },
      "execution_count": null,
      "outputs": []
    },
    {
      "cell_type": "markdown",
      "source": [
        "7. **Display all the names of planes that can fly to Moscow**"
      ],
      "metadata": {
        "id": "Jih2Yq7ko0hy"
      }
    },
    {
      "cell_type": "code",
      "source": [
        "SELECT DISTINCT plane FROM Trip WHERE town_to = \"Moscow\";"
      ],
      "metadata": {
        "id": "HTq4lT9Ko87I"
      },
      "execution_count": null,
      "outputs": []
    },
    {
      "cell_type": "markdown",
      "source": [
        "9. **Which companies organize flights from Vladivostok?**"
      ],
      "metadata": {
        "id": "aAomujkJpAi4"
      }
    },
    {
      "cell_type": "code",
      "source": [
        "SELECT DISTINCT name FROM Company INNER JOIN Trip ON Company.id = Trip.company WHERE town_to = \"Vladivostok\""
      ],
      "metadata": {
        "id": "3hGc8YhqpJjY"
      },
      "execution_count": null,
      "outputs": []
    },
    {
      "cell_type": "markdown",
      "source": [
        "12. **Print the IDs of all flights and the number of passengers on them. Note that some flights may have no passengers. In this case, print the number \"0\".**"
      ],
      "metadata": {
        "id": "cOW2H9_TpPRY"
      }
    },
    {
      "cell_type": "code",
      "source": [
        "SELECT Trip.id, COUNT(passenger) AS COUNT FROM Trip LEFT JOIN Pass_in_trip ON Pass_in_trip.trip = Trip.id GROUP BY Trip.id"
      ],
      "metadata": {
        "id": "U0tT6rrYpW-A"
      },
      "execution_count": null,
      "outputs": []
    },
    {
      "cell_type": "markdown",
      "source": [
        "14. **Which cities did Bruce Willis fly to?**"
      ],
      "metadata": {
        "id": "Oqr4x8SRpd2k"
      }
    },
    {
      "cell_type": "code",
      "source": [
        "SELECT DISTINCT town_to FROM Trip JOIN Pass_in_trip ON Trip.id = Pass_in_trip.trip JOIN Passenger ON Pass_in_trip.passenger = Passenger.id WHERE name = 'Bruce Willis'"
      ],
      "metadata": {
        "id": "u2NMH187pofQ"
      },
      "execution_count": null,
      "outputs": []
    },
    {
      "cell_type": "markdown",
      "source": [
        "15. **Display the passenger ID Steve Martin and the date and time of his arrival in London**"
      ],
      "metadata": {
        "id": "hGx2kYdypqw5"
      }
    },
    {
      "cell_type": "code",
      "source": [
        "SELECT Passenger.id, Trip.time_in FROM Passenger INNER JOIN Pass_in_trip ON Passenger.id = Pass_in_trip.passenger INNER JOIN Trip ON Pass_in_trip.trip = Trip.id WHERE Passenger.name = 'Steve Martin' AND Trip.town_to = 'London'"
      ],
      "metadata": {
        "id": "84F5dGp0p1zo"
      },
      "execution_count": null,
      "outputs": []
    },
    {
      "cell_type": "markdown",
      "source": [
        "19. **Determine which family member bought the potatoes**"
      ],
      "metadata": {
        "id": "KbN0rT9Bp4Dp"
      }
    },
    {
      "cell_type": "code",
      "source": [
        "SELECT DISTINCT FamilyMembers.status FROM FamilyMembers INNER JOIN Payments ON FamilyMembers.member_id = Payments.family_member INNER JOIN Goods ON Payments.good = Goods.good_id WHERE Goods.good_name = 'potato'"
      ],
      "metadata": {
        "id": "n3Gabw-rqHMo"
      },
      "execution_count": null,
      "outputs": []
    },
    {
      "cell_type": "markdown",
      "source": [
        "22. **Find the names of all mothers**"
      ],
      "metadata": {
        "id": "5cIC75zDqJWA"
      }
    },
    {
      "cell_type": "code",
      "source": [
        "SELECT FamilyMembers.member_name FROM FamilyMembers WHERE FamilyMembers.status = 'mother'"
      ],
      "metadata": {
        "id": "Lr3_qc7FqYJg"
      },
      "execution_count": null,
      "outputs": []
    },
    {
      "cell_type": "markdown",
      "source": [
        "28. **How many flights did airlines operate from Rostov to Moscow?**"
      ],
      "metadata": {
        "id": "j0gTioeuqiTh"
      }
    },
    {
      "cell_type": "code",
      "source": [
        "SELECT COUNT(*) AS count FROM Trip WHERE Trip.town_from = 'Rostov' AND Trip.town_to = 'Moscow'"
      ],
      "metadata": {
        "id": "UpSp0l3xqqsg"
      },
      "execution_count": null,
      "outputs": []
    },
    {
      "cell_type": "markdown",
      "source": [
        "34. **How many 10th grades are there in total?**"
      ],
      "metadata": {
        "id": "Z19XVCsXqtyo"
      }
    },
    {
      "cell_type": "code",
      "source": [
        "SELECT COUNT(*) AS count FROM Class WHERE Class.name LIKE '10%'"
      ],
      "metadata": {
        "id": "mEM1x7hnq0-4"
      },
      "execution_count": null,
      "outputs": []
    },
    {
      "cell_type": "markdown",
      "source": [
        "36. **Display information about students living on Pushkin Street**"
      ],
      "metadata": {
        "id": "yya_OypSq3-R"
      }
    },
    {
      "cell_type": "code",
      "source": [
        "SELECT *FROM Student WHERE Student.address LIKE 'ul. Pushkina%'"
      ],
      "metadata": {
        "id": "4zKr6wvbrEtf"
      },
      "execution_count": null,
      "outputs": []
    },
    {
      "cell_type": "markdown",
      "source": [
        "38. **How long has Anna been going to school?**"
      ],
      "metadata": {
        "id": "ZGcY6VShrGfw"
      }
    },
    {
      "cell_type": "code",
      "source": [
        "SELECT COUNT(*) AS count FROM Student WHERE Student.first_name = 'Anna'"
      ],
      "metadata": {
        "id": "8wyqQT2krNfH"
      },
      "execution_count": null,
      "outputs": []
    },
    {
      "cell_type": "markdown",
      "source": [
        "39. **How many students are there in class 10B?**"
      ],
      "metadata": {
        "id": "q-BJBikQrQzZ"
      }
    },
    {
      "cell_type": "code",
      "source": [
        "SELECT COUNT(*) AS count FROM Student_in_class\n",
        "JOIN Class ON Class.id=class WHERE name LIKE '10 B';"
      ],
      "metadata": {
        "id": "5_S--uAnrsAv"
      },
      "execution_count": null,
      "outputs": []
    },
    {
      "cell_type": "markdown",
      "source": [
        "41. **Find out what time the fourth class is scheduled to start.**"
      ],
      "metadata": {
        "id": "10j2QKLXrv2g"
      }
    },
    {
      "cell_type": "code",
      "source": [
        "SELECT Timepair.start_pair FROM Timepair WHERE Timepair.id = '4'"
      ],
      "metadata": {
        "id": "speRdb15r5EQ"
      },
      "execution_count": null,
      "outputs": []
    },
    {
      "cell_type": "markdown",
      "source": [
        "53. **Change the name \"Andie Quincey\" to the new \"Andie Anthony\".**"
      ],
      "metadata": {
        "id": "LA3cw1Gnr6-P"
      }
    },
    {
      "cell_type": "code",
      "source": [
        "UPDATE FamilyMembers SET FamilyMembers.member_name = 'Andie Anthony' WHERE FamilyMembers.member_name = 'Andie Quincey'"
      ],
      "metadata": {
        "id": "tGH6l5ImsBhn"
      },
      "execution_count": null,
      "outputs": []
    },
    {
      "cell_type": "markdown",
      "source": [
        "56. **Delete all flights originating from Moscow.**"
      ],
      "metadata": {
        "id": "rVf_GDC5sF_4"
      }
    },
    {
      "cell_type": "code",
      "source": [
        "DELETE FROM Trip WHERE Trip.town_from = 'Moscow'"
      ],
      "metadata": {
        "id": "-xISU4SrsLP-"
      },
      "execution_count": null,
      "outputs": []
    },
    {
      "cell_type": "markdown",
      "source": [
        "74. **Output the identifier and the sign of the presence of the Internet in the premises. If the Internet is present in the rented accommodation, then output \"YES\", otherwise \"NO\".**"
      ],
      "metadata": {
        "id": "LZLvpRg9sNE5"
      }
    },
    {
      "cell_type": "code",
      "source": [
        "SELECT\n",
        "    Rooms.id, IF(has_internet = 1, 'YES', 'NO') AS has_internet\n",
        "FROM Rooms"
      ],
      "metadata": {
        "id": "Bd7Jz6AksTxQ"
      },
      "execution_count": null,
      "outputs": []
    },
    {
      "cell_type": "markdown",
      "source": [
        "75. **Display the last name, first name and date of birth of students who were born in May.**"
      ],
      "metadata": {
        "id": "qstN8djtsWR_"
      }
    },
    {
      "cell_type": "code",
      "source": [
        "SELECT Student.last_name, Student.first_name, Student.birthday FROM Student WHERE Student.birthday LIKE '%-05-%'"
      ],
      "metadata": {
        "id": "NWcfDbp_sc62"
      },
      "execution_count": null,
      "outputs": []
    },
    {
      "cell_type": "markdown",
      "source": [
        "99. **Calculate the revenue from the female audience (revenue = sum(price * items)). Note that in the table the female audience has a user_gender field \"female\" or \"f\".**"
      ],
      "metadata": {
        "id": "ouBHcXhusejY"
      }
    },
    {
      "cell_type": "code",
      "source": [
        "SELECT SUM(price*items) as income_from_female FROM Purchases WHERE Purchases.user_gender = 'female' OR Purchases.user_gender = 'f'"
      ],
      "metadata": {
        "id": "pEFHl5kMskvI"
      },
      "execution_count": null,
      "outputs": []
    },
    {
      "cell_type": "markdown",
      "source": [
        "103. **List the names of employees who receive a higher salary than their immediate supervisor.**"
      ],
      "metadata": {
        "id": "FCrKV-_jsxFI"
      }
    },
    {
      "cell_type": "code",
      "source": [
        "SELECT employee.name FROM Employee AS employee , Employee AS chiefs WHERE chiefs.id = employee.chief_id AND chiefs.salary < employee.salary"
      ],
      "metadata": {
        "id": "OkQaT4pBs3qQ"
      },
      "execution_count": null,
      "outputs": []
    },
    {
      "cell_type": "markdown",
      "source": [
        "109. **Display the name of the country where the city \"Salzburg\" is located.**"
      ],
      "metadata": {
        "id": "vZrd-f3fs6Gg"
      }
    },
    {
      "cell_type": "code",
      "source": [
        "SELECT Countries.name AS country_name FROM Countries JOIN Regions ON Countries.id = Regions.countryid JOIN Cities ON Regions.id = Cities.regionid WHERE Cities.name = 'Salzburg'"
      ],
      "metadata": {
        "id": "Q_TZiFHYtCEB"
      },
      "execution_count": null,
      "outputs": []
    },
    {
      "cell_type": "markdown",
      "source": [
        "114. **Write a query that will return the names of pilots who flew as a second pilot (second_pilot_id) to New York in August 2023**"
      ],
      "metadata": {
        "id": "8AAgMBtntECX"
      }
    },
    {
      "cell_type": "code",
      "source": [
        "SELECT DISTINCT name FROM Pilots JOIN Flights ON Pilots.pilot_id = Flights.second_pilot_id WHERE Flights.flight_date LIKE '%2023-08%' AND Flights.destination = 'New York'"
      ],
      "metadata": {
        "id": "Rup-tjnMtKQg"
      },
      "execution_count": null,
      "outputs": []
    }
  ]
}